{
 "cells": [
  {
   "cell_type": "code",
   "execution_count": 24,
   "metadata": {},
   "outputs": [],
   "source": [
    "import cassiopeia as cas\n",
    "import pandas as pd\n",
    "import pickle as pic\n",
    "from tqdm.notebook import tqdm\n",
    "import numpy as np\n",
    "import inverse_whd\n",
    "import pickle\n",
    "import numpy as np\n",
    "import matplotlib.pyplot as plt\n",
    "from benchmark_module import BenchmarkModule\n",
    "import os\n",
    "import matplotlib.pyplot as plt\n",
    "\n",
    "# Base parameters, no fitness\n",
    "in_folder = \"/data/yosef2/users/richardz/projects/CassiopeiaV2-Reproducibility/trees/exponential_plus_c/400cells/no_fit/char40/\"\n",
    "out_folder = \"./data/\"\n",
    "\n",
    "# Alternative Data. Must re-implement get_cm() or use the class GroundTruthCMBM()\n",
    "in_folder_2 = \"/home/eecs/ivalexander13/datadir/simulation_data/trees4/exponential_plus_c/no_fit/cells400/mutrate0.5/char40/states100/\"\n",
    "in_folder_3 = \"/home/eecs/ivalexander13/datadir/simulation_data/trees4/exponential_plus_c/no_fit/cells2000/mutrate0.5/char40/states100/\"\n"
   ]
  },
  {
   "cell_type": "markdown",
   "metadata": {},
   "source": [
    "# NJ Plain"
   ]
  },
  {
   "cell_type": "code",
   "execution_count": 3,
   "metadata": {},
   "outputs": [
    {
     "name": "stderr",
     "output_type": "stream",
     "text": [
      "Skipping reconstruction 49: 100%|██████████| 50/50 [00:00<00:00, 535.45it/s]\n"
     ]
    }
   ],
   "source": [
    "nj_plain = BenchmarkModule(\n",
    "    test_name = \"nj_plain\",\n",
    "    gt_trees_dir = in_folder,\n",
    "    numtrees = 50,\n",
    "    out_basefolder = out_folder,\n",
    ")\n",
    "\n",
    "nj_plain.reconstruct(overwrite=False)\n",
    "nj_plain.evaluate(overwrite=False)"
   ]
  },
  {
   "cell_type": "markdown",
   "metadata": {},
   "source": [
    "# NJ Vanilla; 400 cells, no missing data, real time\n"
   ]
  },
  {
   "cell_type": "code",
   "execution_count": 27,
   "metadata": {},
   "outputs": [],
   "source": [
    "class GroundTruthCMBM(BenchmarkModule):\n",
    "    def get_cm(self, i):\n",
    "        gt_tree = self.get_gt_tree(i)\n",
    "        cm = gt_tree.character_matrix\n",
    "\n",
    "        return cm"
   ]
  },
  {
   "cell_type": "code",
   "execution_count": 16,
   "metadata": {},
   "outputs": [
    {
     "name": "stderr",
     "output_type": "stream",
     "text": [
      "Reconstructing tree 49: 100%|██████████| 50/50 [02:15<00:00,  2.71s/it]\n",
      "Evaluating tree 49: 100%|██████████| 50/50 [05:36<00:00,  6.73s/it]\n"
     ]
    }
   ],
   "source": [
    "in_folder_iwhd_2 = \"/home/eecs/ivalexander13/datadir/simulation_data/trees4/exponential_plus_c/no_fit/cells400/mutrate0.5/char40/states100/\"\n",
    "\n",
    "nj_plain_2 = GroundTruthCMBM(\n",
    "    test_name = \"nj_plain_2\",\n",
    "    gt_trees_dir = in_folder_2,\n",
    "    numtrees = 50,\n",
    "    out_basefolder = out_folder,\n",
    ")\n",
    "\n",
    "nj_plain_2.reconstruct(overwrite=True)\n",
    "nj_plain_2.evaluate(overwrite=True)"
   ]
  },
  {
   "cell_type": "markdown",
   "metadata": {},
   "source": [
    "# SNJ Plain"
   ]
  },
  {
   "cell_type": "code",
   "execution_count": 35,
   "metadata": {},
   "outputs": [
    {
     "name": "stderr",
     "output_type": "stream",
     "text": [
      "Reconstructing tree 49: 100%|██████████| 50/50 [36:54<00:00, 44.30s/it]\n",
      "Evaluating tree 49: 100%|██████████| 50/50 [05:24<00:00,  6.49s/it]\n"
     ]
    }
   ],
   "source": [
    "snj_plain = BenchmarkModule(\n",
    "    test_name = \"snj_plain\",\n",
    "    solver=cas.solver.SpectralNeighborJoiningSolver(add_root = True),\n",
    "    numtrees=50,\n",
    "    gt_trees_dir = in_folder,\n",
    "    out_basefolder = out_folder,\n",
    ")\n",
    "\n",
    "snj_plain.reconstruct(overwrite=False, collapse_mutationless_edges=True)\n",
    "snj_plain.evaluate(overwrite=False)"
   ]
  },
  {
   "cell_type": "markdown",
   "metadata": {},
   "source": [
    "# NJ with Inverse WHD; 400 cells, with missing data, real time"
   ]
  },
  {
   "cell_type": "code",
   "execution_count": 30,
   "metadata": {},
   "outputs": [],
   "source": [
    "class IWHDBenchmarkModule(BenchmarkModule):\n",
    "    def __init__(self, test_name, gt_trees_dir, numtrees, out_basefolder):\n",
    "        super().__init__(\n",
    "            test_name = test_name,\n",
    "            gt_trees_dir = gt_trees_dir,\n",
    "            numtrees = numtrees,\n",
    "            out_basefolder = out_basefolder,\n",
    "        )\n",
    "\n",
    "        # state_distribution = pickle.load(open(\"/data/yosef2/users/richardz/projects/CassiopeiaV2-Reproducibility/priors/states100.pkl\", \"rb\"))\n",
    "        numstates = 100\n",
    "        state_distribution = dict(enumerate([1 / numstates] * numstates, 1))\n",
    "        self.q = np.sum(np.array([*state_distribution.values()])**2)\n",
    "\n",
    "    def run_solver(self, i, cm, collapse_mutationless_edges):\n",
    "        # Initialize output recon tree\n",
    "        recon_tree = cas.data.CassiopeiaTree(\n",
    "            character_matrix=cm, \n",
    "            missing_state_indicator = -1\n",
    "            )\n",
    "\n",
    "        # Get gt tree\n",
    "        gt_tree = self.get_gt_tree(i)\n",
    "        total_time = gt_tree.get_time(gt_tree.leaves[0])\n",
    "\n",
    "        # Get iwhd dissim function\n",
    "        def inv_whd(\n",
    "            s1,\n",
    "            s2,\n",
    "            missing_state_indicator=-1,\n",
    "            weights=None,\n",
    "        ) -> float:\n",
    "            \n",
    "            # WHD redefined\n",
    "            whd = cas.solver.dissimilarity_functions.weighted_hamming_distance(s1, s2, missing_state_indicator, weights)\n",
    "            \n",
    "            # calc inv whd\n",
    "            return 2 * inverse_whd.ewhd_inv(\n",
    "                num_sites=40, \n",
    "                mut_rate=np.log(1 - 0.5)/(-1 * total_time), \n",
    "                collision_rate=self.q, \n",
    "                whd=whd, \n",
    "                time=total_time, \n",
    "                error_tolerance=0.001\n",
    "            )\n",
    "    \n",
    "        # Instantiate Solver\n",
    "        self.solver = cas.solver.NeighborJoiningSolver(add_root = True, dissimilarity_function=inv_whd) \n",
    "        self.solver.solve(recon_tree, collapse_mutationless_edges = collapse_mutationless_edges)\n",
    "        \n",
    "        return recon_tree.get_newick()  \n",
    "\n",
    "    def get_cm(self, i):\n",
    "        gt_tree = self.get_gt_tree(i)\n",
    "        cm = gt_tree.character_matrix\n",
    "\n",
    "        return cm     "
   ]
  },
  {
   "cell_type": "code",
   "execution_count": 17,
   "metadata": {},
   "outputs": [
    {
     "name": "stderr",
     "output_type": "stream",
     "text": [
      "Reconstructing tree 49: 100%|██████████| 50/50 [15:33<00:00, 18.67s/it]\n",
      "Evaluating tree 49: 100%|██████████| 50/50 [05:23<00:00,  6.47s/it]\n"
     ]
    }
   ],
   "source": [
    "nj_iwhd_1 = IWHDBenchmarkModule(\n",
    "    test_name = \"nj_iwhd_1\",\n",
    "    gt_trees_dir = in_folder,\n",
    "    numtrees=50,\n",
    "    out_basefolder = out_folder,\n",
    ")\n",
    "\n",
    "nj_iwhd_1.reconstruct(overwrite=False)\n",
    "nj_iwhd_1.evaluate(overwrite=False)"
   ]
  },
  {
   "cell_type": "markdown",
   "metadata": {},
   "source": [
    "# NJ with Inverse WHD; 400 cells, no missing data, real time"
   ]
  },
  {
   "cell_type": "markdown",
   "metadata": {},
   "source": [
    "Make sure to run the IWHDBenchmarkModule cell above"
   ]
  },
  {
   "cell_type": "code",
   "execution_count": 31,
   "metadata": {},
   "outputs": [
    {
     "name": "stderr",
     "output_type": "stream",
     "text": [
      "Reconstructing tree 49: 100%|██████████| 50/50 [26:13<00:00, 31.47s/it]\n",
      "Evaluating tree 49: 100%|██████████| 50/50 [05:24<00:00,  6.50s/it]\n"
     ]
    }
   ],
   "source": [
    "in_folder_iwhd_2 = \"/home/eecs/ivalexander13/datadir/simulation_data/trees4/exponential_plus_c/no_fit/cells400/mutrate0.5/char40/states100/\"\n",
    "\n",
    "nj_iwhd_2 = IWHDBenchmarkModule(\n",
    "    test_name = \"nj_iwhd_2\",\n",
    "    gt_trees_dir = in_folder_2,\n",
    "    numtrees=50,\n",
    "    out_basefolder = out_folder,\n",
    ")\n",
    "\n",
    "nj_iwhd_2.reconstruct(overwrite=True)\n",
    "nj_iwhd_2.evaluate(overwrite=True)"
   ]
  },
  {
   "cell_type": "markdown",
   "metadata": {},
   "source": [
    "# NJ with Inverse WHD; 2000 cells, no missing data, real time"
   ]
  },
  {
   "cell_type": "code",
   "execution_count": null,
   "metadata": {},
   "outputs": [],
   "source": [
    "in_folder_iwhd_3 = \"/home/eecs/ivalexander13/datadir/simulation_data/trees4/exponential_plus_c/no_fit/cells2000/mutrate0.5/char40/states100/\"\n",
    "\n",
    "nj_iwhd_3 = IWHDBenchmarkModule(\n",
    "    test_name = \"nj_iwhd_3\",\n",
    "    gt_trees_dir = in_folder_2,\n",
    "    numtrees=50,\n",
    "    out_basefolder = out_folder,\n",
    ")\n",
    "\n",
    "nj_iwhd_3.reconstruct(overwrite=False)\n",
    "nj_iwhd_3.evaluate(overwrite=False)"
   ]
  },
  {
   "cell_type": "markdown",
   "metadata": {},
   "source": [
    "# NJ with True Distance"
   ]
  },
  {
   "cell_type": "code",
   "execution_count": 34,
   "metadata": {},
   "outputs": [
    {
     "name": "stderr",
     "output_type": "stream",
     "text": [
      "Reconstructing tree 49: 100%|██████████| 50/50 [52:43<00:00, 63.26s/it]\n",
      "Evaluating tree 49: 100%|██████████| 50/50 [05:29<00:00,  6.59s/it]\n"
     ]
    }
   ],
   "source": [
    "nj_true_dist = TrueDistBM(\n",
    "    test_name = \"nj_true_dist\",\n",
    "    solver=cas.solver.SpectralNeighborJoiningSolver(add_root = True),\n",
    "    numtrees=50,\n",
    "    gt_trees_dir = in_folder,\n",
    "    out_basefolder = out_folder,\n",
    ")\n",
    "\n",
    "nj_true_dist.reconstruct(overwrite=True, collapse_mutationless_edges=False)\n",
    "nj_true_dist.evaluate(overwrite=True)"
   ]
  },
  {
   "cell_type": "markdown",
   "metadata": {},
   "source": [
    "# SNJ with Exp True Distance"
   ]
  },
  {
   "cell_type": "code",
   "execution_count": 32,
   "metadata": {},
   "outputs": [],
   "source": [
    "class TrueDistBM(BenchmarkModule):\n",
    "    def run_solver(self, i, cm, collapse_mutationless_edges):\n",
    "        # Initialize output recon tree\n",
    "        recon_tree = cas.data.CassiopeiaTree(\n",
    "            character_matrix=cm, \n",
    "            missing_state_indicator = -1\n",
    "            )\n",
    "\n",
    "        # Get gt tree\n",
    "        gt_tree = self.get_gt_tree(i)\n",
    "\n",
    "        # Get iwhd dissim function\n",
    "        dists = pd.DataFrame(columns=gt_tree.leaves, index=gt_tree.leaves)\n",
    "        for leaf in gt_tree.leaves:\n",
    "            dists[leaf] = gt_tree.get_distances(leaf, leaves_only=True).values()\n",
    "            \n",
    "        dists = np.exp(dists)\n",
    "            \n",
    "        recon_tree.set_dissimilarity_map(dists)\n",
    "    \n",
    "        # Instantiate Solver\n",
    "        self.solver.solve(recon_tree, collapse_mutationless_edges = collapse_mutationless_edges)\n",
    "        \n",
    "        return recon_tree.get_newick()"
   ]
  },
  {
   "cell_type": "code",
   "execution_count": 33,
   "metadata": {},
   "outputs": [
    {
     "name": "stderr",
     "output_type": "stream",
     "text": [
      "Reconstructing tree 49: 100%|██████████| 50/50 [52:47<00:00, 63.36s/it]\n",
      "Evaluating tree 49: 100%|██████████| 50/50 [05:25<00:00,  6.51s/it]\n"
     ]
    }
   ],
   "source": [
    "snj_true_dist = TrueDistBM(\n",
    "    test_name = \"snj_true_dist\",\n",
    "    solver=cas.solver.SpectralNeighborJoiningSolver(add_root = True),\n",
    "    gt_trees_dir = in_folder,\n",
    "    numtrees=50,\n",
    "    out_basefolder = out_folder,\n",
    ")\n",
    "\n",
    "snj_true_dist.reconstruct(overwrite=True, collapse_mutationless_edges=False)\n",
    "snj_true_dist.evaluate(overwrite=True)"
   ]
  },
  {
   "cell_type": "markdown",
   "metadata": {},
   "source": [
    "# NJ Yaffe"
   ]
  },
  {
   "cell_type": "code",
   "execution_count": null,
   "metadata": {},
   "outputs": [],
   "source": [
    "#!pip install https://github.com/aizeny/snj\n",
    "import spectraltree\n",
    "from dendropy import TaxonNamespace\n",
    "\n",
    "class NJYaffeBM(BenchmarkModule):\n",
    "    def run_solver(self, i, cm, collapse_mutationless_edges):\n",
    "        # Initialize output recon tree\n",
    "        recon_tree = cas.data.CassiopeiaTree(\n",
    "            character_matrix=cm, \n",
    "            missing_state_indicator = -1\n",
    "            )\n",
    "\n",
    "        # Reconstruct tree in OG mode, then convert to CassiopeiaTree\n",
    "        namespace = TaxonNamespace(cm.index)\n",
    "\n",
    "        taxa_meta = spectraltree.TaxaMetadata(\n",
    "            namespace,\n",
    "            [i for i in namespace] \n",
    "        )\n",
    "        nj = spectraltree.NeighborJoining(spectraltree.JC_similarity_matrix)\n",
    "        solved_newick = str(nj(cm.values, taxa_meta)) + ';'\n",
    "\n",
    "        recon_tree.populate_tree(solved_newick)\n",
    "        recon_tree.collapse_mutationless_edges(collapse_mutationless_edges)\n",
    "    \n",
    "        return recon_tree.get_newick()"
   ]
  },
  {
   "cell_type": "code",
   "execution_count": null,
   "metadata": {},
   "outputs": [],
   "source": [
    "nj_yaffe = BenchmarkModule(\n",
    "    test_name = \"nj_yaffe\",\n",
    "    numtrees=50,\n",
    "    gt_trees_dir = in_folder,\n",
    "    out_basefolder = out_folder,\n",
    ")\n",
    "\n",
    "nj_yaffe.reconstruct(overwrite=True, collapse_mutationless_edges=True)\n",
    "nj_yaffe.evaluate(overwrite=True)"
   ]
  },
  {
   "cell_type": "markdown",
   "metadata": {},
   "source": [
    "# SNJ Yaffe"
   ]
  },
  {
   "cell_type": "code",
   "execution_count": 19,
   "metadata": {},
   "outputs": [],
   "source": [
    "#!pip install https://github.com/aizeny/snj\n",
    "import spectraltree \n",
    "from dendropy import TaxonNamespace\n",
    "\n",
    "class SNJYaffeBM(BenchmarkModule):\n",
    "    def run_solver(self, i, cm, collapse_mutationless_edges):\n",
    "        # Initialize output recon tree\n",
    "        recon_tree = cas.data.CassiopeiaTree(\n",
    "            character_matrix=cm, \n",
    "            missing_state_indicator = -1\n",
    "            )\n",
    "\n",
    "        # Reconstruct tree in OG mode, then convert to CassiopeiaTree\n",
    "        namespace = TaxonNamespace(cm.index)\n",
    "\n",
    "        taxa_meta = spectraltree.TaxaMetadata(\n",
    "            namespace,\n",
    "            [i for i in namespace] \n",
    "        )\n",
    "        snj = spectraltree.SpectralNeighborJoining(spectraltree.JC_similarity_matrix)\n",
    "        solved_newick = str(snj(cm.values, taxa_meta)) + ';'\n",
    "\n",
    "        recon_tree.populate_tree(solved_newick)\n",
    "        recon_tree.collapse_mutationless_edges(collapse_mutationless_edges)\n",
    "    \n",
    "        return recon_tree.get_newick()"
   ]
  },
  {
   "cell_type": "code",
   "execution_count": null,
   "metadata": {},
   "outputs": [],
   "source": [
    "snj_yaffe = BenchmarkModule(\n",
    "    test_name = \"snj_yaffe\",\n",
    "    numtrees=50,\n",
    "    gt_trees_dir = in_folder,\n",
    "    out_basefolder = out_folder,\n",
    ")\n",
    "\n",
    "snj_yaffe.reconstruct(overwrite=True)\n",
    "snj_yaffe.evaluate(overwrite=True)"
   ]
  },
  {
   "cell_type": "markdown",
   "metadata": {},
   "source": [
    "# STDR Yaffe"
   ]
  },
  {
   "cell_type": "code",
   "execution_count": null,
   "metadata": {},
   "outputs": [],
   "source": [
    "#!pip install https://github.com/aizeny/snj\n",
    "import spectraltree\n",
    "from dendropy import TaxonNamespace\n",
    "\n",
    "class STDRYaffeBM(BenchmarkModule):\n",
    "    def run_solver(self, i, cm, collapse_mutationless_edges):\n",
    "        # Initialize output recon tree\n",
    "        recon_tree = cas.data.CassiopeiaTree(\n",
    "            character_matrix=cm, \n",
    "            missing_state_indicator = -1\n",
    "            )\n",
    "\n",
    "        # Reconstruct tree in OG mode, then convert to CassiopeiaTree\n",
    "        namespace = TaxonNamespace(cm.index)\n",
    "\n",
    "        taxa_meta = spectraltree.TaxaMetadata(\n",
    "            namespace,\n",
    "            [i for i in namespace] \n",
    "        )\n",
    "        stdr_nj = spectraltree.STDR(spectraltree.NeighborJoining,spectraltree.JC_similarity_matrix)\n",
    "        solved_newick = str(stdr_nj(cm.values, taxa_meta)) + ';'\n",
    "\n",
    "        recon_tree.populate_tree(solved_newick)\n",
    "        recon_tree.collapse_mutationless_edges(collapse_mutationless_edges)\n",
    "    \n",
    "        return recon_tree.get_newick()"
   ]
  },
  {
   "cell_type": "code",
   "execution_count": null,
   "metadata": {},
   "outputs": [],
   "source": [
    "stdr_yaffe = BenchmarkModule(\n",
    "    test_name = \"stdr_yaffe\",\n",
    "    numtrees=50,\n",
    "    gt_trees_dir = in_folder,\n",
    "    out_basefolder = out_folder,\n",
    ")\n",
    "\n",
    "stdr_yaffe.reconstruct(overwrite=True, collapse_mutationless_edges=True)\n",
    "stdr_yaffe.evaluate(overwrite=True)"
   ]
  },
  {
   "cell_type": "markdown",
   "metadata": {},
   "source": [
    "# Plotting"
   ]
  },
  {
   "cell_type": "code",
   "execution_count": 20,
   "metadata": {},
   "outputs": [],
   "source": [
    "# Params\n",
    "test_names = [\n",
    "    (\"nj_true_dist\", \"NJ TrueDist\"),\n",
    "    (\"nj_plain\", \"NJ Vanilla\"),\n",
    "    (\"nj_iwhd_1\", \"NJ iWHD: 400 cells, const time, w/ missing data\"),\n",
    "    (\"nj_plain_2\", \"NJ Vanilla: 400 cells, real time, w/o missing data\"),\n",
    "    (\"nj_iwhd_2\", \"NJ iWHD: 400 cells, real time, w/o missing data\"),\n",
    "    # (\"nj_iwhd_3\", \"NJ iWHD: 2000 cells, real time, w/o missing data\"),\n",
    "    (\"nj_yaffe\", \"NJ Yaffe\"),\n",
    "    (\"snj_plain\", \"SNJ Vanilla\"),\n",
    "    (\"snj_true_dist\", \"SNJ TrueDist\"),\n",
    "    (\"snj_yaffe\", \"SNJ Yaffe\"),\n",
    "    (\"stdr_yaffe\", \"STDR Yaffe\"),\n",
    "]\n",
    "\n",
    "test_names.reverse()"
   ]
  },
  {
   "cell_type": "code",
   "execution_count": 21,
   "metadata": {},
   "outputs": [],
   "source": [
    "# Collect metrics\n",
    "metrics_df = pd.DataFrame()\n",
    "for name, _ in test_names:\n",
    "    metrics_df[f\"RF__{name}\"] = pd.read_csv(os.path.join(\n",
    "        out_folder, \n",
    "        f\"{name}.rf.csv\"\n",
    "        ))['NormalizedRobinsonFoulds']\n",
    "    metrics_df[f\"triplets__{name}\"] = pd.read_csv(os.path.join(\n",
    "        out_folder,\n",
    "        f\"{name}.triplets.csv\"\n",
    "        ))['TripletsCorrect']"
   ]
  },
  {
   "cell_type": "code",
   "execution_count": 22,
   "metadata": {},
   "outputs": [
    {
     "data": {
      "text/plain": [
       "<Figure size 432x288 with 0 Axes>"
      ]
     },
     "metadata": {},
     "output_type": "display_data"
    },
    {
     "data": {
      "image/png": "[encoded data removed]",
      "text/plain": [
       "<Figure size 720x288 with 1 Axes>"
      ]
     },
     "metadata": {
      "needs_background": "light"
     },
     "output_type": "display_data"
    },
    {
     "data": {
      "text/plain": [
       "<Figure size 432x288 with 0 Axes>"
      ]
     },
     "metadata": {},
     "output_type": "display_data"
    },
    {
     "data": {
      "image/png": "[encoded data removed]",
      "text/plain": [
       "<Figure size 720x288 with 1 Axes>"
      ]
     },
     "metadata": {
      "needs_background": "light"
     },
     "output_type": "display_data"
    }
   ],
   "source": [
    "# Plot metrics\n",
    "rf_vars = {\n",
    "    'prefix': 'RF__',\n",
    "    'title': 'Benchmark: Normalized Robinson Foulds Distance',\n",
    "    'x_label': 'Normalized RF Distance (Smaller is Better)',\n",
    "    'outfile': 'rf_benchmark.png',\n",
    "}\n",
    "triplets_vars = {\n",
    "    'prefix': 'triplets__',\n",
    "    'title': 'Benchmark: Triplets Correct',\n",
    "    'x_label': 'Triplets Correct (Smaller is Better)',\n",
    "    'outfile': 'triplets_benchmark.png',\n",
    "}\n",
    "\n",
    "for vars in [rf_vars, triplets_vars]:\n",
    "    names = []\n",
    "    yticks = []\n",
    "    for name, ytick in test_names:\n",
    "        names.append(metrics_df[vars['prefix'] + name])\n",
    "        yticks.append(ytick)\n",
    "\n",
    "    plt.clf()\n",
    "    fig = plt.figure(figsize=(10, 4))\n",
    "    ax = fig.add_subplot(111)\n",
    "    ax.boxplot(names, vert = 0)\n",
    "    plt.title(vars['title'])\n",
    "    plt.xlabel(vars['x_label'])\n",
    "    plt.yticks(list(range(1, len(metrics_df.columns)//2 + 1)), yticks)\n",
    "    # plt.xlim(0.07, 0.76)\n",
    "    plt.xlim(-0.05, 1.05)\n",
    "    plt.grid()\n",
    "    plt.tight_layout()\n",
    "    plt.savefig(os.path.join(out_folder, vars['outfile']))\n",
    "    plt.show();"
   ]
  },
  {
   "cell_type": "code",
   "execution_count": null,
   "metadata": {},
   "outputs": [],
   "source": []
  },
  {
   "cell_type": "code",
   "execution_count": null,
   "metadata": {},
   "outputs": [],
   "source": []
  }
 ],
 "metadata": {
  "kernelspec": {
   "display_name": "Python 3",
   "language": "python",
   "name": "python3"
  },
  "language_info": {
   "codemirror_mode": {
    "name": "ipython",
    "version": 3
   },
   "file_extension": ".py",
   "mimetype": "text/x-python",
   "name": "python",
   "nbconvert_exporter": "python",
   "pygments_lexer": "ipython3",
   "version": "3.6.13"
  }
 },
 "nbformat": 4,
 "nbformat_minor": 4
}
